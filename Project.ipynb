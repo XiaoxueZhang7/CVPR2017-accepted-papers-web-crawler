{
 "cells": [
  {
   "cell_type": "code",
   "execution_count": 10,
   "metadata": {},
   "outputs": [],
   "source": [
    "from pandas import Series, DataFrame\n",
    "import pandas as pd\n",
    "import numpy as np\n",
    "import nltk\n",
    "import re\n",
    "from nltk.stem import WordNetLemmatizer\n",
    "from sklearn.cross_validation import cross_val_score\n",
    "\n",
    "\n",
    "wnl = WordNetLemmatizer()\n",
    "# read data from .json files\n",
    "traindf = pd.read_json(\"train.json\")\n",
    "testdf = pd.read_json(\"test.json\")\n",
    "\n",
    "# clean spam from original ingredients, such as ( oz.), unwanted marks, etc.\n",
    "# wnl seems not to be very useful\n",
    "traindf['cleaned_ingredients'] = [' '.join([wnl.lemmatize(re.sub('[^A-Za-z]', ' ', item).strip().lower()) for item in lists]) for lists in traindf['ingredients']]\n",
    "testdf['cleaned_ingredients'] = [' '.join([wnl.lemmatize(re.sub('[^A-Za-z]', ' ', item).strip().lower()) for item in lists]) for lists in testdf['ingredients']]\n",
    "\n",
    "# gather labels into a single list\n",
    "classes = list(set(traindf['cuisine']))"
   ]
  },
  {
   "cell_type": "code",
   "execution_count": 11,
   "metadata": {
    "collapsed": true
   },
   "outputs": [],
   "source": [
    "# try text mining package\n",
    "import textmining\n",
    "# Initialize class to create term-document matrix\n",
    "tdm = textmining.TermDocumentMatrix()\n",
    "\n",
    "for item in traindf['cleaned_ingredients']:\n",
    "    tdm.add_doc(item)\n",
    "\n",
    "tdm.write_csv('matrix.csv', cutoff = 1)"
   ]
  },
  {
   "cell_type": "code",
   "execution_count": 12,
   "metadata": {
    "collapsed": true
   },
   "outputs": [],
   "source": [
    "train_matrix = pd.read_csv('matrix.csv')"
   ]
  },
  {
   "cell_type": "code",
   "execution_count": 13,
   "metadata": {},
   "outputs": [
    {
     "name": "stdout",
     "output_type": "stream",
     "text": [
      "(39774, 3008)\n"
     ]
    }
   ],
   "source": [
    "print train_matrix.shape"
   ]
  },
  {
   "cell_type": "code",
   "execution_count": 15,
   "metadata": {
    "collapsed": true
   },
   "outputs": [],
   "source": [
    "Scores = train_matrix.sum(axis = 0)\n",
    "\n",
    "id2label = {idx:item for (idx,item) in enumerate(train_matrix)}\n",
    "\n",
    "drop_idx =[id2label[idx] for (idx,score) in enumerate(Scores) if score <= 0.001 * train_matrix.shape[0]]"
   ]
  },
  {
   "cell_type": "code",
   "execution_count": 16,
   "metadata": {
    "collapsed": true
   },
   "outputs": [],
   "source": [
    "# make a copy of the original train matrix\n",
    "cleaned_train_matrix = train_matrix.copy()\n",
    "cleaned_train_matrix.drop(drop_idx, axis=1, inplace = True)"
   ]
  },
  {
   "cell_type": "code",
   "execution_count": 17,
   "metadata": {},
   "outputs": [
    {
     "name": "stdout",
     "output_type": "stream",
     "text": [
      "(39774, 196)\n"
     ]
    }
   ],
   "source": [
    "print cleaned_train_matrix.shape"
   ]
  },
  {
   "cell_type": "code",
   "execution_count": 42,
   "metadata": {
    "collapsed": true
   },
   "outputs": [],
   "source": [
    "features = list(cleaned_train_matrix)\n",
    "y, t = pd.factorize(traindf['cuisine'])"
   ]
  },
  {
   "cell_type": "code",
   "execution_count": 18,
   "metadata": {
    "collapsed": true
   },
   "outputs": [],
   "source": [
    "# Now let's build a random forest classifer\n",
    "from sklearn.ensemble import RandomForestClassifier as RFC\n",
    "# Try different n_estimators\n",
    "n_estimators = np.arange(100,500,50)"
   ]
  },
  {
   "cell_type": "code",
   "execution_count": 46,
   "metadata": {
    "collapsed": true
   },
   "outputs": [],
   "source": [
    "oob_errors = []\n",
    "for n in n_estimators:\n",
    "    forest = RFC(n_jobs = -1, n_estimators = n, max_features = 'auto', oob_score = True)\n",
    "    forest.fit(cleaned_train_matrix[features],y)\n",
    "    oob_errors.append(1 - forest.oob_score_)"
   ]
  },
  {
   "cell_type": "code",
   "execution_count": 52,
   "metadata": {},
   "outputs": [
    {
     "name": "stdout",
     "output_type": "stream",
     "text": [
      "The optimal number of trees is 450\n",
      "0.380876954795\n"
     ]
    },
    {
     "data": {
      "image/png": "[encoded data removed]",
      "text/plain": [
       "<matplotlib.figure.Figure at 0x1a10e5c1d0>"
      ]
     },
     "metadata": {},
     "output_type": "display_data"
    }
   ],
   "source": [
    "# determining best n\n",
    "optimal_n = n_estimators[oob_errors.index(min(oob_errors))]\n",
    "print(\"The optimal number of trees is %d\" % optimal_n)\n",
    "print min(oob_errors)\n",
    "\n",
    "# plot oob error vs n\n",
    "plt.plot(n_estimators, oob_errors)\n",
    "plt.title('OOB Errors of the models with 196 features')\n",
    "plt.xlabel('Number of trees n')\n",
    "plt.ylabel('Out-of-bag Error')\n",
    "plt.show()"
   ]
  },
  {
   "cell_type": "code",
   "execution_count": 48,
   "metadata": {
    "collapsed": true
   },
   "outputs": [],
   "source": [
    "# Test\n",
    "forest = RFC(n_jobs = -1, n_estimators = optimal_n, max_features = 'auto', oob_score = True)\n",
    "forest.fit(cleaned_train_matrix[features],y)\n",
    "test_matrix = [[item.split().count(feature) for feature in features] for item in testdf['cleaned_ingredients']]\n",
    "predictions = forest.predict(test_matrix)"
   ]
  },
  {
   "cell_type": "code",
   "execution_count": 49,
   "metadata": {
    "collapsed": true
   },
   "outputs": [],
   "source": [
    "resultdf = testdf.copy()\n",
    "resultdf['cuisine'] = [t[prediction] for prediction in predictions]"
   ]
  },
  {
   "cell_type": "code",
   "execution_count": 50,
   "metadata": {
    "collapsed": true
   },
   "outputs": [],
   "source": [
    "resultdf.drop(['ingredients','cleaned_ingredients'],axis = 1)\n",
    "resultdf.to_csv('result.csv')"
   ]
  },
  {
   "cell_type": "markdown",
   "metadata": {},
   "source": [
    "Upload the result.csv to the competition website:"
   ]
  },
  {
   "cell_type": "markdown",
   "metadata": {},
   "source": [
    "### Try Delete Factor = 0.001"
   ]
  },
  {
   "cell_type": "code",
   "execution_count": 53,
   "metadata": {},
   "outputs": [
    {
     "name": "stdout",
     "output_type": "stream",
     "text": [
      "(39774, 1131)\n"
     ]
    }
   ],
   "source": [
    "drop_idx =[id2label[idx] for (idx,score) in enumerate(Scores) if score <= 0.001 * train_matrix.shape[0]]\n",
    "cleaned_train_matrix = train_matrix.copy()\n",
    "cleaned_train_matrix.drop(drop_idx, axis=1, inplace = True)\n",
    "print cleaned_train_matrix.shape"
   ]
  },
  {
   "cell_type": "code",
   "execution_count": 54,
   "metadata": {
    "collapsed": true
   },
   "outputs": [],
   "source": [
    "features = list(cleaned_train_matrix)\n",
    "y, t = pd.factorize(traindf['cuisine'])\n",
    "oob_errors = []\n",
    "for n in n_estimators:\n",
    "    forest = RFC(n_jobs = -1, n_estimators = n, max_features = 'auto', oob_score = True)\n",
    "    forest.fit(cleaned_train_matrix[features],y)\n",
    "    oob_errors.append(1 - forest.oob_score_)"
   ]
  },
  {
   "cell_type": "code",
   "execution_count": 56,
   "metadata": {},
   "outputs": [
    {
     "name": "stdout",
     "output_type": "stream",
     "text": [
      "The optimal number of trees is 350\n",
      "0.285312012873\n"
     ]
    },
    {
     "data": {
      "image/png": "[encoded data removed]",
      "text/plain": [
       "<matplotlib.figure.Figure at 0x1a10d08650>"
      ]
     },
     "metadata": {},
     "output_type": "display_data"
    }
   ],
   "source": [
    "# determining best n\n",
    "optimal_n = n_estimators[oob_errors.index(min(oob_errors))]\n",
    "print(\"The optimal number of trees is %d\" % optimal_n)\n",
    "print min(oob_errors)\n",
    "\n",
    "# plot oob error vs n\n",
    "plt.plot(n_estimators, oob_errors)\n",
    "plt.title('OOB Errors of the models with 1131 features')\n",
    "plt.xlabel('Number of trees n')\n",
    "plt.ylabel('Out-of-bag Error')\n",
    "plt.show()"
   ]
  },
  {
   "cell_type": "code",
   "execution_count": 57,
   "metadata": {
    "collapsed": true
   },
   "outputs": [],
   "source": [
    "# Test\n",
    "forest = RFC(n_jobs = -1, n_estimators = optimal_n, max_features = 'auto', oob_score = True)\n",
    "forest.fit(cleaned_train_matrix[features],y)\n",
    "test_matrix = [[item.split().count(feature) for feature in features] for item in testdf['cleaned_ingredients']]\n",
    "predictions = forest.predict(test_matrix)"
   ]
  },
  {
   "cell_type": "code",
   "execution_count": 58,
   "metadata": {
    "collapsed": true
   },
   "outputs": [],
   "source": [
    "resultdf = testdf.copy()\n",
    "resultdf['cuisine'] = [t[prediction] for prediction in predictions]\n",
    "resultdf.drop(['ingredients','cleaned_ingredients'],axis = 1)\n",
    "resultdf.to_csv('result.csv')"
   ]
  },
  {
   "cell_type": "markdown",
   "metadata": {},
   "source": [
    "Upload the result.csv to the competition website: <img src=\"result2.png\" width=\"80%\">"
   ]
  },
  {
   "cell_type": "markdown",
   "metadata": {},
   "source": [
    "### Try Delete Factor = 0.0001"
   ]
  },
  {
   "cell_type": "code",
   "execution_count": 59,
   "metadata": {},
   "outputs": [
    {
     "name": "stdout",
     "output_type": "stream",
     "text": [
      "(39774, 3655)\n"
     ]
    }
   ],
   "source": [
    "drop_idx =[id2label[idx] for (idx,score) in enumerate(Scores) if score <= 0.0001 * train_matrix.shape[0]]\n",
    "cleaned_train_matrix = train_matrix.copy()\n",
    "cleaned_train_matrix.drop(drop_idx, axis=1, inplace = True)\n",
    "print cleaned_train_matrix.shape"
   ]
  },
  {
   "cell_type": "code",
   "execution_count": 60,
   "metadata": {
    "collapsed": true
   },
   "outputs": [],
   "source": [
    "features = list(cleaned_train_matrix)\n",
    "y, t = pd.factorize(traindf['cuisine'])\n",
    "oob_errors = []\n",
    "for n in n_estimators:\n",
    "    forest = RFC(n_jobs = -1, n_estimators = n, max_features = 'auto', oob_score = True)\n",
    "    forest.fit(cleaned_train_matrix[features],y)\n",
    "    oob_errors.append(1 - forest.oob_score_)"
   ]
  },
  {
   "cell_type": "code",
   "execution_count": 62,
   "metadata": {},
   "outputs": [
    {
     "name": "stdout",
     "output_type": "stream",
     "text": [
      "The optimal number of trees is 450\n",
      "0.277191129884\n"
     ]
    },
    {
     "data": {
      "image/png": "[encoded data removed]",
      "text/plain": [
       "<matplotlib.figure.Figure at 0x1a114bbc90>"
      ]
     },
     "metadata": {},
     "output_type": "display_data"
    }
   ],
   "source": [
    "# determining best n\n",
    "optimal_n = n_estimators[oob_errors.index(min(oob_errors))]\n",
    "print(\"The optimal number of trees is %d\" % optimal_n)\n",
    "print min(oob_errors)\n",
    "\n",
    "# plot oob error vs n\n",
    "plt.plot(n_estimators, oob_errors)\n",
    "plt.title('OOB Errors of the models with 3655 features')\n",
    "plt.xlabel('Number of trees n')\n",
    "plt.ylabel('Out-of-bag Error')\n",
    "plt.show()"
   ]
  },
  {
   "cell_type": "code",
   "execution_count": 63,
   "metadata": {
    "collapsed": true
   },
   "outputs": [],
   "source": [
    "# Test\n",
    "forest = RFC(n_jobs = -1, n_estimators = optimal_n, max_features = 'auto', oob_score = True)\n",
    "forest.fit(cleaned_train_matrix[features],y)\n",
    "test_matrix = [[item.split().count(feature) for feature in features] for item in testdf['cleaned_ingredients']]\n",
    "predictions = forest.predict(test_matrix)"
   ]
  },
  {
   "cell_type": "code",
   "execution_count": 64,
   "metadata": {
    "collapsed": true
   },
   "outputs": [],
   "source": [
    "resultdf = testdf.copy()\n",
    "resultdf['cuisine'] = [t[prediction] for prediction in predictions]\n",
    "resultdf.drop(['ingredients','cleaned_ingredients'],axis = 1)\n",
    "resultdf.to_csv('result.csv')"
   ]
  },
  {
   "cell_type": "code",
   "execution_count": 14,
   "metadata": {
    "collapsed": true
   },
   "outputs": [],
   "source": [
    "# use some feature selection methods\n",
    "from sklearn.feature_selection import SelectFromModel\n",
    "from sklearn.ensemble import ExtraTreesClassifier\n",
    "import matplotlib.pyplot as plt\n",
    "import pickle\n",
    "\n",
    "features = train_matrix.columns\n",
    "y, t = pd.factorize(traindf['cuisine'])\n",
    "clf = ExtraTreesClassifier()\n",
    "clf = clf.fit(train_matrix[features], y)\n",
    "model = SelectFromModel(clf ,prefit = True)\n",
    "importances = clf.feature_importances_\n",
    "indices = np.argsort(importances)"
   ]
  },
  {
   "cell_type": "code",
   "execution_count": 15,
   "metadata": {
    "collapsed": true
   },
   "outputs": [],
   "source": [
    "id2label = {idx:item for (idx,item) in enumerate(train_matrix)}\n",
    "drop_idx =[id2label[idx] for idx in indices[:-500]]\n",
    "# make a copy of the original train matrix\n",
    "cleaned_train_matrix = train_matrix.copy()\n",
    "cleaned_train_matrix.drop(drop_idx, axis=1, inplace = True)"
   ]
  },
  {
   "cell_type": "code",
   "execution_count": 16,
   "metadata": {},
   "outputs": [
    {
     "name": "stdout",
     "output_type": "stream",
     "text": [
      "(39774, 500)\n"
     ]
    }
   ],
   "source": [
    "print cleaned_train_matrix.shape"
   ]
  },
  {
   "cell_type": "code",
   "execution_count": 19,
   "metadata": {},
   "outputs": [],
   "source": [
    "features = list(cleaned_train_matrix)\n",
    "y, t = pd.factorize(traindf['cuisine'])\n",
    "oob_errors = []\n",
    "for n in n_estimators:\n",
    "    forest = RFC(n_jobs = -1, n_estimators = n, max_features = 'auto', oob_score = True)\n",
    "    forest.fit(cleaned_train_matrix[features],y)\n",
    "    oob_errors.append(1 - forest.oob_score_)"
   ]
  },
  {
   "cell_type": "code",
   "execution_count": 21,
   "metadata": {},
   "outputs": [
    {
     "name": "stdout",
     "output_type": "stream",
     "text": [
      "The optimal number of trees is 450\n",
      "0.239503193041\n"
     ]
    },
    {
     "data": {
      "image/png": "[encoded data removed]",
      "text/plain": [
       "<matplotlib.figure.Figure at 0x1a14ac0d90>"
      ]
     },
     "metadata": {},
     "output_type": "display_data"
    }
   ],
   "source": [
    "# determining best n\n",
    "optimal_n = n_estimators[oob_errors.index(min(oob_errors))]\n",
    "print(\"The optimal number of trees is %d\" % optimal_n)\n",
    "print min(oob_errors)\n",
    "\n",
    "# plot oob error vs n\n",
    "plt.plot(n_estimators, oob_errors)\n",
    "plt.title('OOB Errors of the models with 500 selected features')\n",
    "plt.xlabel('Number of trees n')\n",
    "plt.ylabel('Out-of-bag Error')\n",
    "plt.show()"
   ]
  },
  {
   "cell_type": "code",
   "execution_count": 22,
   "metadata": {
    "collapsed": true
   },
   "outputs": [],
   "source": [
    "# Test\n",
    "forest = RFC(n_jobs = -1, n_estimators = optimal_n, max_features = 'auto', oob_score = True)\n",
    "forest.fit(cleaned_train_matrix[features],y)\n",
    "test_matrix = [[item.split().count(feature) for feature in features] for item in testdf['cleaned_ingredients']]\n",
    "predictions = forest.predict(test_matrix)"
   ]
  },
  {
   "cell_type": "code",
   "execution_count": 25,
   "metadata": {},
   "outputs": [],
   "source": [
    "resultdf = testdf.copy()\n",
    "resultdf['cuisine'] = [t[prediction] for prediction in predictions]\n",
    "resultdf[['id','cuisine']].to_csv('result.csv')"
   ]
  },
  {
   "cell_type": "code",
   "execution_count": 45,
   "metadata": {},
   "outputs": [],
   "source": [
    "# Try svm\n",
    "from sklearn.svm import LinearSVC\n",
    "from sklearn.metrics import classification_report\n",
    "import sklearn.metrics\n",
    "from sklearn.feature_extraction.text import TfidfVectorizer\n",
    "from sklearn.svm import SVC\n",
    "from sklearn.multiclass import OneVsRestClassifier\n",
    "from sklearn.preprocessing import LabelEncoder\n",
    "from sklearn.model_selection import cross_val_score, KFold, GridSearchCV\n",
    "import pickle"
   ]
  },
  {
   "cell_type": "code",
   "execution_count": 39,
   "metadata": {
    "collapsed": true
   },
   "outputs": [],
   "source": [
    "vectorizer = TfidfVectorizer(binary = True)\n",
    "label_encoder = LabelEncoder()\n",
    "\n",
    "vectorized_train = vectorizer.fit_transform(traindf['cleaned_ingredients']).astype('float16')\n",
    "vectorized_test = vectorizer.transform(testdf['cleaned_ingredients']).astype('float16')\n",
    "targets = label_encoder.fit_transform(traindf['cuisine'])"
   ]
  },
  {
   "cell_type": "code",
   "execution_count": 58,
   "metadata": {},
   "outputs": [
    {
     "name": "stdout",
     "output_type": "stream",
     "text": [
      "[LibSVM][LibSVM][LibSVM][LibSVM][LibSVM][LibSVM][LibSVM][LibSVM][LibSVM][LibSVM][LibSVM][LibSVM][LibSVM][LibSVM][LibSVM][LibSVM][LibSVM][LibSVM][LibSVM][LibSVM][LibSVM][LibSVM][LibSVM][LibSVM][LibSVM][LibSVM][LibSVM][LibSVM][LibSVM][LibSVM][LibSVM][LibSVM][LibSVM][LibSVM][LibSVM][LibSVM][LibSVM][LibSVM][LibSVM][LibSVM][LibSVM][LibSVM][LibSVM][LibSVM][LibSVM][LibSVM][LibSVM][LibSVM][LibSVM][LibSVM][LibSVM][LibSVM][LibSVM][LibSVM][LibSVM][LibSVM][LibSVM][LibSVM][LibSVM][LibSVM][LibSVM][LibSVM][LibSVM][LibSVM][LibSVM][LibSVM][LibSVM][LibSVM][LibSVM][LibSVM][LibSVM][LibSVM][LibSVM][LibSVM][LibSVM][LibSVM][LibSVM][LibSVM][LibSVM][LibSVM][LibSVM][LibSVM][LibSVM][LibSVM][LibSVM][LibSVM][LibSVM][LibSVM][LibSVM][LibSVM][LibSVM][LibSVM][LibSVM][LibSVM][LibSVM][LibSVM][LibSVM][LibSVM][LibSVM][LibSVM][LibSVM][LibSVM][LibSVM][LibSVM][LibSVM][LibSVM][LibSVM][LibSVM][LibSVM][LibSVM][LibSVM][LibSVM][LibSVM][LibSVM][LibSVM][LibSVM][LibSVM][LibSVM][LibSVM][LibSVM][LibSVM][LibSVM][LibSVM][LibSVM][LibSVM][LibSVM][LibSVM][LibSVM][LibSVM][LibSVM][LibSVM][LibSVM][LibSVM][LibSVM][LibSVM][LibSVM][LibSVM][LibSVM][LibSVM][LibSVM][LibSVM][LibSVM][LibSVM][LibSVM][LibSVM][LibSVM][LibSVM][LibSVM][LibSVM][LibSVM][LibSVM][LibSVM][LibSVM][LibSVM][LibSVM][LibSVM][LibSVM][LibSVM][LibSVM][LibSVM][LibSVM][LibSVM][LibSVM][LibSVM][LibSVM][LibSVM][LibSVM][LibSVM][LibSVM][LibSVM][LibSVM][LibSVM][LibSVM][LibSVM][LibSVM][LibSVM][LibSVM][LibSVM][LibSVM][LibSVM][LibSVM][LibSVM][LibSVM][LibSVM][LibSVM][LibSVM][LibSVM][LibSVM][LibSVM][LibSVM][LibSVM][LibSVM][LibSVM][LibSVM][LibSVM][LibSVM][LibSVM][LibSVM][LibSVM][LibSVM][LibSVM][LibSVM][LibSVM][LibSVM][LibSVM][LibSVM][LibSVM][LibSVM][LibSVM][LibSVM][LibSVM][LibSVM][LibSVM][LibSVM][LibSVM][LibSVM][LibSVM][LibSVM][LibSVM][LibSVM][LibSVM][LibSVM][LibSVM][LibSVM][LibSVM][LibSVM][LibSVM][LibSVM][LibSVM][LibSVM][LibSVM][LibSVM][LibSVM][LibSVM][LibSVM][LibSVM][LibSVM][LibSVM][LibSVM][LibSVM][LibSVM][LibSVM][LibSVM][LibSVM][LibSVM][LibSVM][LibSVM][LibSVM][LibSVM][LibSVM][LibSVM][LibSVM][LibSVM][LibSVM][LibSVM][LibSVM][LibSVM][LibSVM][LibSVM][LibSVM][LibSVM][LibSVM][LibSVM][LibSVM][LibSVM][LibSVM][LibSVM][LibSVM][LibSVM][LibSVM][LibSVM][LibSVM][LibSVM][LibSVM][LibSVM][LibSVM][LibSVM][LibSVM][LibSVM][LibSVM][LibSVM][LibSVM][LibSVM][LibSVM][LibSVM][LibSVM][LibSVM][LibSVM][LibSVM][LibSVM][LibSVM][LibSVM][LibSVM][LibSVM][LibSVM][LibSVM][LibSVM][LibSVM][LibSVM][LibSVM]"
     ]
    }
   ],
   "source": [
    "svm_optim_data = []\n",
    "kf = KFold(n_splits = 5)\n",
    "C = [1, 10, 100]\n",
    "best_c = 0\n",
    "min_error = 1\n",
    "for c in C:\n",
    "    error = 0\n",
    "    for train_index,validation_index in kf.split(vectorized_train):\n",
    "        x_trn, x_val = vectorized_train[train_index], vectorized_train[validation_index]\n",
    "        y_trn, y_val = targets[train_index], targets[validation_index]\n",
    "        clf = SVC(C=c, kernel='rbf', degree=3,\n",
    "              gamma=1, coef0=1, shrinking=True, \n",
    "              probability=False, tol=0.001, cache_size=200,\n",
    "              class_weight=None, verbose=True, max_iter=-1,\n",
    "              decision_function_shape=None, random_state=None)\n",
    "        model = OneVsRestClassifier(clf, n_jobs=1)\n",
    "        model.fit(x_trn, y_trn)\n",
    "        error += 1 - model.score(x_val,y_val)\n",
    "    error = error / 5\n",
    "    svm_optim_data.append([c,error])\n",
    "    if error < min_error:\n",
    "        min_error = error\n",
    "        best_c = c"
   ]
  },
  {
   "cell_type": "code",
   "execution_count": 57,
   "metadata": {},
   "outputs": [],
   "source": [
    "clf = SVC(C=best_c, kernel='rbf', degree=3,\n",
    "              gamma=1, coef0=1, shrinking=True, \n",
    "              probability=False, tol=0.001, cache_size=200,\n",
    "              class_weight=None, verbose=True, max_iter=-1,\n",
    "              decision_function_shape=None, random_state=None)\n",
    "best_model = OneVsRestClassifier(clf, n_jobs=-1)\n",
    "best_model.fit(vectorized_train,targets)\n",
    "y_test = best_model.predict(vectorized_test)\n",
    "test_cuisine = label_encoder.inverse_transform(y_test)\n",
    "submission_df = pd.DataFrame({'id': testdf['id'], 'cuisine': test_cuisine}, columns=['id', 'cuisine'])\n",
    "submission_df.to_csv('svm_result.csv', index=False)"
   ]
  },
  {
   "cell_type": "code",
   "execution_count": 60,
   "metadata": {},
   "outputs": [
    {
     "data": {
      "image/png": "[encoded data removed]",
      "text/plain": [
       "<matplotlib.figure.Figure at 0x1a1b8b7c90>"
      ]
     },
     "metadata": {},
     "output_type": "display_data"
    }
   ],
   "source": [
    "# plot validation error vs c\n",
    "plt.plot(np.log10(C), [item[1] for item in svm_optim_data])\n",
    "plt.title('Validation Errors of the OneVsRest SVM models')\n",
    "plt.xlabel('log10(C)')\n",
    "plt.ylabel('Validation Error')\n",
    "plt.show()"
   ]
  },
  {
   "cell_type": "code",
   "execution_count": 61,
   "metadata": {},
   "outputs": [
    {
     "name": "stdout",
     "output_type": "stream",
     "text": [
      "[[1, 0.18916871950863917], [10, 0.18502028714132027], [100, 0.18489456423460668]]\n"
     ]
    }
   ],
   "source": [
    "print svm_optim_data"
   ]
  },
  {
   "cell_type": "code",
   "execution_count": null,
   "metadata": {
    "collapsed": true
   },
   "outputs": [],
   "source": []
  }
 ],
 "metadata": {
  "kernelspec": {
   "display_name": "Python 2",
   "language": "python",
   "name": "python2"
  },
  "language_info": {
   "codemirror_mode": {
    "name": "ipython",
    "version": 2
   },
   "file_extension": ".py",
   "mimetype": "text/x-python",
   "name": "python",
   "nbconvert_exporter": "python",
   "pygments_lexer": "ipython2",
   "version": "2.7.13"
  }
 },
 "nbformat": 4,
 "nbformat_minor": 2
}
